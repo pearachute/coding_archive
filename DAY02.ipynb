{
  "nbformat": 4,
  "nbformat_minor": 0,
  "metadata": {
    "colab": {
      "name": "DAY02.ipynb",
      "provenance": [],
      "collapsed_sections": []
    },
    "kernelspec": {
      "name": "python3",
      "display_name": "Python 3"
    },
    "language_info": {
      "name": "python"
    }
  },
  "cells": [
    {
      "cell_type": "code",
      "execution_count": null,
      "metadata": {
        "colab": {
          "base_uri": "https://localhost:8080/"
        },
        "id": "Wav4wYZRZspv",
        "outputId": "0e7944a2-3b14-44ff-eb2c-551e5c339a3c"
      },
      "outputs": [
        {
          "output_type": "stream",
          "name": "stdout",
          "text": [
            "False\n",
            "False\n",
            "True\n",
            "True\n"
          ]
        }
      ],
      "source": [
        "#대소비교\n",
        "n = 3\n",
        "m = 5\n",
        "\n",
        "print(n==m) #같은가\n",
        "print(n>m) #초과, 미만\n",
        "print(n<=m) #이상, 이하\n",
        "print(n!=m) #다른가\n"
      ]
    },
    {
      "cell_type": "code",
      "source": [
        "#조건문\n",
        "\n",
        "if n==m:\n",
        "  print(\"두 값이 같습니다.\")\n",
        "else:\n",
        "  print(\"두 값이 다릅니다\")\n",
        "\n",
        "if n<m:\n",
        "  print(\"n이 m보다 작거나 같습니다.\")\n",
        "elif n%3 == 0:                         #여기부터 실행이 안되는 이유 -  if, elif 구문에서 어느 한 구문이라도 참이여서 실행되면 나머지 밑에 식은 그냥 넘어감.\n",
        "  print(\"n은 3의 배수입니다.\")\n",
        "else:\n",
        "  print(\"마지막 else.\")"
      ],
      "metadata": {
        "colab": {
          "base_uri": "https://localhost:8080/"
        },
        "id": "hGLnN8ZcaA-T",
        "outputId": "24268e27-44be-4143-f85f-2f1e257aa973"
      },
      "execution_count": null,
      "outputs": [
        {
          "output_type": "stream",
          "name": "stdout",
          "text": [
            "두 값이 다릅니다\n",
            "n이 m보다 작거나 같습니다.\n"
          ]
        }
      ]
    },
    {
      "cell_type": "code",
      "source": [
        "x = [1, 2, 3]\n",
        "\n",
        "if 3 in x:\n",
        "  print(\"리스트에 3이 있습니다.\")\n",
        "\n",
        "if 5 not in x:\n",
        "  print(\"리스트에 5가 없습니다.\")"
      ],
      "metadata": {
        "colab": {
          "base_uri": "https://localhost:8080/"
        },
        "id": "gtz-rMixaZQj",
        "outputId": "f288888e-859a-4ae1-9777-47625246b63b"
      },
      "execution_count": null,
      "outputs": [
        {
          "output_type": "stream",
          "name": "stdout",
          "text": [
            "리스트에 3이 있습니다.\n",
            "리스트에 5가 없습니다.\n"
          ]
        }
      ]
    },
    {
      "cell_type": "code",
      "source": [
        "#반복문\n",
        "\n",
        "n = 3\n",
        "y = {1, 2, 3}\n",
        "\n",
        "while n>0:\n",
        "  print(n)\n",
        "  n = n-1 #이 문장이 없으면 무한 반복이므로 주의!\n",
        "\n",
        "while 3 in y:\n",
        "  print(\"3이 세트 y에 있습니다\")\n",
        "  y.remove(3)"
      ],
      "metadata": {
        "colab": {
          "base_uri": "https://localhost:8080/"
        },
        "id": "Y3pEUlTNb3mX",
        "outputId": "b2b0d006-ef2c-4d18-8775-3e507b6af1d5"
      },
      "execution_count": null,
      "outputs": [
        {
          "output_type": "stream",
          "name": "stdout",
          "text": [
            "3\n",
            "2\n",
            "1\n",
            "3이 세트 y에 있습니다\n"
          ]
        }
      ]
    },
    {
      "cell_type": "code",
      "source": [
        "x = [1, 2, 3, 4, 5]\n",
        "z =[]\n",
        "\n",
        "for i in x:\n",
        "  z.append(i**2)\n",
        "\n",
        "z # 5차원에서의 거리를 구할 수 있음."
      ],
      "metadata": {
        "colab": {
          "base_uri": "https://localhost:8080/"
        },
        "id": "1431ooTtdV_c",
        "outputId": "874445aa-1bac-4434-eb40-33f921ab8da2"
      },
      "execution_count": null,
      "outputs": [
        {
          "output_type": "execute_result",
          "data": {
            "text/plain": [
              "[1, 4, 9, 16, 25]"
            ]
          },
          "metadata": {},
          "execution_count": 16
        }
      ]
    },
    {
      "cell_type": "code",
      "source": [
        "x = [3, 5]\n",
        "z =[]\n",
        "\n",
        "for i in x:\n",
        "  z.append(i**2)\n",
        "\n",
        "z # 2차원에서의 거리를 구할 수 있음."
      ],
      "metadata": {
        "colab": {
          "base_uri": "https://localhost:8080/"
        },
        "id": "s23bo_pqd-KE",
        "outputId": "5e4f8684-0437-4080-ed52-79afa64e3cb7"
      },
      "execution_count": null,
      "outputs": [
        {
          "output_type": "execute_result",
          "data": {
            "text/plain": [
              "[9, 25]"
            ]
          },
          "metadata": {},
          "execution_count": 17
        }
      ]
    },
    {
      "cell_type": "code",
      "source": [
        "x = [1, 2, 3]\n",
        "z =[n**2 for n in x]\n",
        "\n",
        "z"
      ],
      "metadata": {
        "id": "-tbRonFahYZt"
      },
      "execution_count": null,
      "outputs": []
    }
  ]
}