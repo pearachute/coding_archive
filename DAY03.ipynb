{
 "cells": [
  {
   "cell_type": "markdown",
   "id": "df14d1cb",
   "metadata": {},
   "source": [
    "문자열 처리, 함수, 모듈"
   ]
  },
  {
   "cell_type": "code",
   "execution_count": 1,
   "id": "59ba5a8d",
   "metadata": {},
   "outputs": [
    {
     "name": "stdout",
     "output_type": "stream",
     "text": [
      "my message\n",
      "another message\n"
     ]
    }
   ],
   "source": [
    "str1 = 'my message'\n",
    "str2 = 'another message'\n",
    "\n",
    "print(str1)\n",
    "print(str2)"
   ]
  },
  {
   "cell_type": "code",
   "execution_count": 4,
   "id": "607ada02",
   "metadata": {},
   "outputs": [
    {
     "name": "stdout",
     "output_type": "stream",
     "text": [
      "<class 'str'>\n",
      "My message\n",
      "10\n"
     ]
    }
   ],
   "source": [
    "print(type(str1))\n",
    "print(str1.capitalize()) #tab 누르면 관련 함수 뜸\n",
    "print(len(str1))"
   ]
  },
  {
   "cell_type": "code",
   "execution_count": 8,
   "id": "3400101a",
   "metadata": {},
   "outputs": [
    {
     "name": "stdout",
     "output_type": "stream",
     "text": [
      "15\n",
      "* my message _ \n",
      "14\n",
      " my message _ \n"
     ]
    }
   ],
   "source": [
    "# 문자열에서 내가 원하는 부분만 추출하고 싶을 때\n",
    "str3 = ' * my message ____ '\n",
    "\n",
    "str3_lstripped = str3.lstrip() #양쪽 끝 공백 없애줌.\n",
    "print(len(str3_lstripped))\n",
    "print(str3_lstripped)\n",
    "\n",
    "str3_lstripped2 = str3_lstripped.lstrip('*')\n",
    "print(len(str3_lstripped2))\n",
    "print(str3_lstripped2)"
   ]
  },
  {
   "cell_type": "code",
   "execution_count": 12,
   "id": "0237ba9a",
   "metadata": {},
   "outputs": [
    {
     "name": "stdout",
     "output_type": "stream",
     "text": [
      "12\n",
      " my message \n"
     ]
    }
   ],
   "source": [
    "str3_lstripped = str3.lstrip().lstrip('*').rstrip().rstrip('_')\n",
    "print(len(str3_lstripped))\n",
    "print(str3_lstripped)"
   ]
  },
  {
   "cell_type": "code",
   "execution_count": 15,
   "id": "909eabdc",
   "metadata": {},
   "outputs": [
    {
     "name": "stdout",
     "output_type": "stream",
     "text": [
      "y\n",
      "2\n",
      "mess\n"
     ]
    }
   ],
   "source": [
    "#문자'열'\n",
    "\n",
    "print(str1[1]) #인덱스는 리스트와 동일.\n",
    "print(str1.count('s'))\n",
    "print(str1[3:7])"
   ]
  },
  {
   "cell_type": "code",
   "execution_count": 18,
   "id": "29de70aa",
   "metadata": {},
   "outputs": [
    {
     "name": "stdout",
     "output_type": "stream",
     "text": [
      "<class 'list'>\n",
      "<class 'list'>\n",
      "['m', 'y', ' ', 'm', 'e', 's', 's', 'a', 'g', 'e']\n",
      "my message\n"
     ]
    }
   ],
   "source": [
    "list1 = [1, 2, 3]\n",
    "\n",
    "print(type(list1))\n",
    "\n",
    "x = list(str1)\n",
    "print(type(x))\n",
    "print(x)\n",
    "\n",
    "#다시 문자열로 합치기\n",
    "x_joined = ''.join(x)\n",
    "print(x_joined)"
   ]
  },
  {
   "cell_type": "code",
   "execution_count": 21,
   "id": "4b8ee7cc",
   "metadata": {},
   "outputs": [
    {
     "name": "stdout",
     "output_type": "stream",
     "text": [
      "['my', 'message']\n",
      "['my mess', 'ge']\n",
      "['abc', '*def*ghi', 'jkl']\n",
      "['abc#', 'def', 'ghi#jkl']\n"
     ]
    }
   ],
   "source": [
    "#단어별로 나누기\n",
    "\n",
    "x = str1.split() #기준: 공백\n",
    "print(x)\n",
    "\n",
    "x= str1.split('a') #기준: a\n",
    "print(x)\n",
    "\n",
    "str4 = 'abc#*def*ghi#jkl'\n",
    "\n",
    "print(str4.split('#'))\n",
    "print(str4.split('*'))"
   ]
  },
  {
   "cell_type": "code",
   "execution_count": 24,
   "id": "4408e170",
   "metadata": {},
   "outputs": [
    {
     "name": "stdout",
     "output_type": "stream",
     "text": [
      "diff\n",
      "same\n"
     ]
    }
   ],
   "source": [
    "#문자열 비교\n",
    "str1 = 'abc'\n",
    "str2 = 'abc _____*'\n",
    "\n",
    "if str1 == str2: #공백 제외 비교하고 싶으면 strip 쓴다. - 문자열 중간은 strip 적용 안됨.\n",
    "    print('same')\n",
    "else:\n",
    "    print('diff')\n",
    "    \n",
    "    \n",
    "if str1.strip() == str2.strip(' _*'): \n",
    "    print('same')\n",
    "else:\n",
    "    print('diff')"
   ]
  },
  {
   "cell_type": "code",
   "execution_count": 30,
   "id": "1f348908",
   "metadata": {},
   "outputs": [
    {
     "name": "stdout",
     "output_type": "stream",
     "text": [
      "palindrome\n"
     ]
    }
   ],
   "source": [
    "#palindrome example\n",
    "\n",
    "str1 = 'racecar'\n",
    "\n",
    "#solution 1\n",
    "#1. 알파벳 단위 리스트로 쪼개기\n",
    "x = list(str1)\n",
    "\n",
    "#2. 리스트 순서 reverse\n",
    "x.reverse()\n",
    "\n",
    "#3. 뒤집은 리스트를 문자열로 합쳐서 비교하기.\n",
    "x_joined = ''.join(x)\n",
    "\n",
    "if x_joined == str1:\n",
    "    print('palindrome')\n",
    "else:\n",
    "    print('wrong example')"
   ]
  },
  {
   "cell_type": "code",
   "execution_count": 35,
   "id": "80ca89dd",
   "metadata": {},
   "outputs": [
    {
     "name": "stdout",
     "output_type": "stream",
     "text": [
      "True\n",
      "False\n",
      "palindrome\n"
     ]
    }
   ],
   "source": [
    "#코드 함수화 시키기\n",
    "def is_palindrome(str1):\n",
    "    x = list(str1)\n",
    "    x.reverse()\n",
    "    x_joined = ''.join(x)\n",
    "    if x_joined == str1:\n",
    "        return True\n",
    "    else:\n",
    "        return False\n",
    "        \n",
    "print(is_palindrome('hih'))\n",
    "print(is_palindrome('parachute'))\n",
    "\n",
    "if is_palindrome('mom'):\n",
    "    print('palindrome')\n",
    "else:\n",
    "    print('wrong example')"
   ]
  },
  {
   "cell_type": "code",
   "execution_count": null,
   "id": "5d880eab",
   "metadata": {},
   "outputs": [],
   "source": []
  }
 ],
 "metadata": {
  "kernelspec": {
   "display_name": "Python 3 (ipykernel)",
   "language": "python",
   "name": "python3"
  },
  "language_info": {
   "codemirror_mode": {
    "name": "ipython",
    "version": 3
   },
   "file_extension": ".py",
   "mimetype": "text/x-python",
   "name": "python",
   "nbconvert_exporter": "python",
   "pygments_lexer": "ipython3",
   "version": "3.10.5"
  }
 },
 "nbformat": 4,
 "nbformat_minor": 5
}
