{
 "cells": [
  {
   "cell_type": "code",
   "execution_count": 4,
   "id": "11e3ffb4",
   "metadata": {},
   "outputs": [
    {
     "data": {
      "text/plain": [
       "14"
      ]
     },
     "execution_count": 4,
     "metadata": {},
     "output_type": "execute_result"
    }
   ],
   "source": [
    "#함수에는 매개변수를 변수, 리스트, 다른 함수 등 다양하게 넣을 수 있음.\n",
    "list1 = [1, 2, 3]\n",
    "def sq_sum(n):\n",
    "    result = [ i**2 for i in n ]\n",
    "    return sum(result)\n",
    "\n",
    "def tsq_sum(n):\n",
    "    result = [ i**3 for i in n ]\n",
    "    return sum(result)\n",
    "\n",
    "assert sq_sum([1, 2, 3]) == 14\n",
    "sq_sum(list1)    "
   ]
  },
  {
   "cell_type": "code",
   "execution_count": null,
   "id": "589207e9",
   "metadata": {},
   "outputs": [],
   "source": [
    "def sq(n):\n",
    "    return n**2\n",
    "\n",
    "def t(n):\n",
    "    return n**3"
   ]
  },
  {
   "cell_type": "markdown",
   "id": "a1667e58",
   "metadata": {},
   "source": [
    "이런 함수들 1줄로 만드는 람다식."
   ]
  },
  {
   "cell_type": "code",
   "execution_count": 5,
   "id": "e426078f",
   "metadata": {},
   "outputs": [
    {
     "data": {
      "text/plain": [
       "74"
      ]
     },
     "execution_count": 5,
     "metadata": {},
     "output_type": "execute_result"
    }
   ],
   "source": [
    "#함수(리스트, lambda n: n**2)\n",
    "\n",
    "# random 안에서 내가 사용할 함수들이 많다\n",
    "import random\n",
    "\n",
    "random.randrange(1, 100)\n"
   ]
  },
  {
   "cell_type": "code",
   "execution_count": 12,
   "id": "26047ce1",
   "metadata": {},
   "outputs": [
    {
     "data": {
      "text/plain": [
       "[3, 20, 45, 7, 9, 98, 24, 11, 86, 94]"
      ]
     },
     "execution_count": 12,
     "metadata": {},
     "output_type": "execute_result"
    }
   ],
   "source": [
    "# random 안에 내가 사용할 함수가 정해져 있다.\n",
    "from random import randrange\n",
    "\n",
    "randrange(1, 100)\n",
    "\n",
    "rand_list = [ randrange(1, 100) for _ in range(10)]\n",
    "rand_list"
   ]
  },
  {
   "cell_type": "code",
   "execution_count": 15,
   "id": "ce9bbf3b",
   "metadata": {},
   "outputs": [],
   "source": [
    "# 편차 리스트 만들기\n",
    "'''\n",
    "def dev_list(src):\n",
    "    mean = sum(src) / len(src)\n",
    "    result = []\n",
    "    for i in src:\n",
    "        if i >= mean:\n",
    "            result.append(i - mean)\n",
    "        elif i < mean:\n",
    "            result.append(mean - i)\n",
    "    return print('mean: ', mean, ',dev_list: ', result)\n",
    "'''"
   ]
  },
  {
   "cell_type": "code",
   "execution_count": 18,
   "id": "785ef6b7",
   "metadata": {},
   "outputs": [
    {
     "name": "stdout",
     "output_type": "stream",
     "text": [
      "mean:  39.7 ,dev_list:  [36.7, 19.700000000000003, 5.299999999999997, 32.7, 30.700000000000003, 58.3, 15.700000000000003, 28.700000000000003, 46.3, 54.3]\n"
     ]
    }
   ],
   "source": [
    "dev_list(rand_list)"
   ]
  },
  {
   "cell_type": "code",
   "execution_count": 21,
   "id": "9042bf15",
   "metadata": {},
   "outputs": [],
   "source": [
    "def de_list(src):\n",
    "    mean = sum(src) / len(src)\n",
    "    return [i-mean for i in src]"
   ]
  },
  {
   "cell_type": "code",
   "execution_count": 22,
   "id": "aeee070b",
   "metadata": {},
   "outputs": [
    {
     "name": "stdout",
     "output_type": "stream",
     "text": [
      "[3, 20, 45, 7, 9, 98, 24, 11, 86, 94]\n"
     ]
    },
    {
     "data": {
      "text/plain": [
       "[-36.7,\n",
       " -19.700000000000003,\n",
       " 5.299999999999997,\n",
       " -32.7,\n",
       " -30.700000000000003,\n",
       " 58.3,\n",
       " -15.700000000000003,\n",
       " -28.700000000000003,\n",
       " 46.3,\n",
       " 54.3]"
      ]
     },
     "execution_count": 22,
     "metadata": {},
     "output_type": "execute_result"
    }
   ],
   "source": [
    "print(rand_list)\n",
    "de_list(rand_list)"
   ]
  },
  {
   "cell_type": "code",
   "execution_count": 29,
   "id": "6e8b039e",
   "metadata": {},
   "outputs": [
    {
     "name": "stdout",
     "output_type": "stream",
     "text": [
      "12 is not prime\n"
     ]
    }
   ],
   "source": [
    "#소수 판별하기\n",
    "n = 12\n",
    "flag =0\n",
    "for i in range(2, n):\n",
    "    if n%i == 0:\n",
    "        print(n,'is not prime')\n",
    "        flag = 1\n",
    "        break\n",
    "        \n",
    "if flag == 0:\n",
    "    print('prime')\n",
    "\n",
    "#소수인지 소수가 아닌지 어떻게 다르게 표시할지 고민했는데 flag라는 새로운 조건을 추가함으로써 해결할 수 있다."
   ]
  },
  {
   "cell_type": "code",
   "execution_count": null,
   "id": "90e6cb0e",
   "metadata": {},
   "outputs": [],
   "source": []
  }
 ],
 "metadata": {
  "kernelspec": {
   "display_name": "Python 3 (ipykernel)",
   "language": "python",
   "name": "python3"
  },
  "language_info": {
   "codemirror_mode": {
    "name": "ipython",
    "version": 3
   },
   "file_extension": ".py",
   "mimetype": "text/x-python",
   "name": "python",
   "nbconvert_exporter": "python",
   "pygments_lexer": "ipython3",
   "version": "3.9.7"
  }
 },
 "nbformat": 4,
 "nbformat_minor": 5
}
