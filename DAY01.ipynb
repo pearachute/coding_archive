{
  "nbformat": 4,
  "nbformat_minor": 0,
  "metadata": {
    "colab": {
      "name": "DAY01",
      "provenance": []
    },
    "kernelspec": {
      "name": "python3",
      "display_name": "Python 3"
    },
    "language_info": {
      "name": "python"
    }
  },
  "cells": [
    {
      "cell_type": "code",
      "execution_count": null,
      "metadata": {
        "colab": {
          "base_uri": "https://localhost:8080/"
        },
        "id": "vdx0GWLuQ1MG",
        "outputId": "184f1ad1-6605-4be7-f794-9fd7c8d90991"
      },
      "outputs": [
        {
          "output_type": "stream",
          "name": "stdout",
          "text": [
            "5\n"
          ]
        },
        {
          "output_type": "execute_result",
          "data": {
            "text/plain": [
              "int"
            ]
          },
          "metadata": {},
          "execution_count": 2
        }
      ],
      "source": [
        "n = 5\n",
        "print(n)\n",
        "type(n)"
      ]
    },
    {
      "cell_type": "code",
      "source": [
        "#데이터 타입 바꾸기\n",
        "m = int(12.415654)\n",
        "print(m)"
      ],
      "metadata": {
        "colab": {
          "base_uri": "https://localhost:8080/"
        },
        "id": "bev_Ta7NQ9bv",
        "outputId": "ec2b283b-4258-473f-e768-4decf510625e"
      },
      "execution_count": null,
      "outputs": [
        {
          "output_type": "stream",
          "name": "stdout",
          "text": [
            "12\n"
          ]
        }
      ]
    },
    {
      "cell_type": "code",
      "source": [
        "m = float(20)\n",
        "print(m)\n",
        "print(type(m))"
      ],
      "metadata": {
        "colab": {
          "base_uri": "https://localhost:8080/"
        },
        "id": "fMqstzFaUL0X",
        "outputId": "2dbfc61d-d531-40da-972b-451ba3297ec3"
      },
      "execution_count": null,
      "outputs": [
        {
          "output_type": "stream",
          "name": "stdout",
          "text": [
            "20.0\n",
            "<class 'float'>\n"
          ]
        }
      ]
    },
    {
      "cell_type": "code",
      "source": [
        "m= str(45)\n",
        "print(m)\n",
        "print(type(m))"
      ],
      "metadata": {
        "colab": {
          "base_uri": "https://localhost:8080/"
        },
        "id": "rKgFoEoMU_K3",
        "outputId": "d4139046-c384-4a6c-af2a-5c49781753de"
      },
      "execution_count": null,
      "outputs": [
        {
          "output_type": "stream",
          "name": "stdout",
          "text": [
            "45\n",
            "<class 'str'>\n"
          ]
        }
      ]
    },
    {
      "cell_type": "code",
      "source": [
        "# bool (boolean) : True / False, 1 / 0 -> 0은 False, 0이 아닌 값은 True\n",
        "\n",
        "# %은 나머지, /은 몫\n",
        "# list는 여러 연산 가능, tuple은 불가\n",
        "# tuple의 함수 1. index 구성 원소의 위치 알려줌, 2."
      ],
      "metadata": {
        "id": "52IMPUGvVVQq"
      },
      "execution_count": null,
      "outputs": []
    },
    {
      "cell_type": "code",
      "source": [
        "deglee.colab@"
      ],
      "metadata": {
        "id": "88q5sQd6XGZu"
      },
      "execution_count": null,
      "outputs": []
    },
    {
      "cell_type": "code",
      "source": [
        "#https://github.com/dglee-share/mod1"
      ],
      "metadata": {
        "id": "eDHeomHUjy1S"
      },
      "execution_count": null,
      "outputs": []
    },
    {
      "cell_type": "code",
      "source": [
        ""
      ],
      "metadata": {
        "id": "LaGG-vDIZXIH"
      },
      "execution_count": null,
      "outputs": []
    }
  ]
}