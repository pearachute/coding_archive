{
 "cells": [
  {
   "cell_type": "code",
   "execution_count": 5,
   "id": "1ed8546c",
   "metadata": {},
   "outputs": [
    {
     "name": "stdout",
     "output_type": "stream",
     "text": [
      "transportation: 20.0\n"
     ]
    }
   ],
   "source": [
    "class transportation:\n",
    "    def __init__(self, x):      #constructor - 무조건 실행.\n",
    "        self.speed = x    #property\n",
    "    \n",
    "    def get_speed(self):     #method\n",
    "        return self.speed\n",
    "    \n",
    "    def set_speed(self, sp):  # 값을 세팅만 하는 역할이므로 return 값 없음. -> 이때 출력하면 none이 뜸.\n",
    "        self.speed = sp\n",
    "    \n",
    "    def __str__(self):\n",
    "        return 'transportation: ' + str(self.speed)\n",
    "        \n",
    "x = transportation(20.0)\n",
    "x.get_speed() #() 안에 숫자를 넣어주면 self 의 값이 바뀌면서 함수 값이 변경 됨.\n",
    "print(x)"
   ]
  },
  {
   "cell_type": "code",
   "execution_count": 12,
   "id": "dfe0de28",
   "metadata": {},
   "outputs": [
    {
     "name": "stdout",
     "output_type": "stream",
     "text": [
      "5\n",
      "car: 5\n"
     ]
    },
    {
     "data": {
      "text/plain": [
       "100.0"
      ]
     },
     "execution_count": 12,
     "metadata": {},
     "output_type": "execute_result"
    }
   ],
   "source": [
    "class car(transportation):\n",
    "    def __init__(self):\n",
    "        super().__init__(100.0)\n",
    "        self.n_doors = 5\n",
    "        \n",
    "    def set_ndoors(self, nd):\n",
    "        self.n_doors = nd\n",
    "    \n",
    "    def get_ndoors(self):\n",
    "        return self.n_doors\n",
    "    \n",
    "    def __str__(self):\n",
    "        return 'car: ' + str(self.n_doors)\n",
    "    \n",
    "c = car()\n",
    "print(c.get_ndoors())\n",
    "print(c)\n",
    "# c.get_speed(0.0) 이렇게 하면 에러 뜸, 하위 클래스에 super 을 추가함으로써 상위 클래스 초기화.\n",
    "c.get_speed()"
   ]
  },
  {
   "cell_type": "code",
   "execution_count": 14,
   "id": "657c0fef",
   "metadata": {},
   "outputs": [
    {
     "name": "stdout",
     "output_type": "stream",
     "text": [
      "[1, 2, 2, 4, 4, 4, 4, 5, 5, 5, 5, 5]\n"
     ]
    }
   ],
   "source": [
    "list1 = [1,2,2,3,3,3,4,4,4,4,5,5,5,5,5]\n",
    "\n",
    "while 3 in list1:\n",
    "    list1.remove(3)\n",
    "\n",
    "print(list1)"
   ]
  },
  {
   "cell_type": "code",
   "execution_count": 16,
   "id": "23cb5047",
   "metadata": {},
   "outputs": [
    {
     "name": "stdout",
     "output_type": "stream",
     "text": [
      "[1, 2, 2, 3, 3, 3, 5, 5, 5, 5, 5]\n",
      "<class '__main__.mylist'>\n"
     ]
    }
   ],
   "source": [
    "class mylist(list):\n",
    "    def remove_all(self, target):\n",
    "        while target in self:       #self는 list 자신을 칭함.\n",
    "            self.remove(target)\n",
    "\n",
    "list2 = mylist([1,2,2,3,3,3,4,4,4,4,5,5,5,5,5])\n",
    "list2.remove_all(4)\n",
    "print(list2)\n",
    "print(type(list2))"
   ]
  },
  {
   "cell_type": "code",
   "execution_count": 19,
   "id": "6835c77c",
   "metadata": {},
   "outputs": [],
   "source": [
    "list2 = [1,2,3,4]\n",
    "assert sum(list2) == 10 # 저 조건이 맞는지 확인하고 지나가라, 아니면 에러 뜸"
   ]
  },
  {
   "cell_type": "code",
   "execution_count": 23,
   "id": "a3465839",
   "metadata": {},
   "outputs": [
    {
     "name": "stdout",
     "output_type": "stream",
     "text": [
      "error\n",
      "done.\n",
      "0\n"
     ]
    }
   ],
   "source": [
    "# n = int('abc') value error 뜸. \n",
    "#예외 처리를 통해 에러를 넘길 수 있음.\n",
    "\n",
    "try:\n",
    "    n = int('abc')\n",
    "except:\n",
    "    print('error')\n",
    "    n = 0\n",
    "finally:    #예외 발생 유무와 관계없이 실행.\n",
    "    print('done.')\n",
    "    \n",
    "print(n)"
   ]
  },
  {
   "cell_type": "code",
   "execution_count": null,
   "id": "031584d9",
   "metadata": {},
   "outputs": [],
   "source": []
  }
 ],
 "metadata": {
  "kernelspec": {
   "display_name": "Python 3 (ipykernel)",
   "language": "python",
   "name": "python3"
  },
  "language_info": {
   "codemirror_mode": {
    "name": "ipython",
    "version": 3
   },
   "file_extension": ".py",
   "mimetype": "text/x-python",
   "name": "python",
   "nbconvert_exporter": "python",
   "pygments_lexer": "ipython3",
   "version": "3.10.5"
  }
 },
 "nbformat": 4,
 "nbformat_minor": 5
}
