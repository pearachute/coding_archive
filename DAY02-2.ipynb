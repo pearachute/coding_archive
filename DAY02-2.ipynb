{
 "cells": [
  {
   "cell_type": "code",
   "execution_count": 1,
   "id": "07c9867a",
   "metadata": {},
   "outputs": [
    {
     "data": {
      "text/plain": [
       "[1, 4, 9, 16, 25]"
      ]
     },
     "execution_count": 1,
     "metadata": {},
     "output_type": "execute_result"
    }
   ],
   "source": [
    "x = [1, 2, 3, 4, 5]\n",
    "z =[i**2 for i in x]\n",
    "\n",
    "z"
   ]
  },
  {
   "cell_type": "markdown",
   "id": "94c0c443",
   "metadata": {},
   "source": [
    "range 기본값 start 값 0, step은 1로 설정되어 있음."
   ]
  },
  {
   "cell_type": "code",
   "execution_count": 2,
   "id": "3a998d2a",
   "metadata": {},
   "outputs": [
    {
     "name": "stdout",
     "output_type": "stream",
     "text": [
      "range(0, 10)\n"
     ]
    },
    {
     "data": {
      "text/plain": [
       "[0, 1, 2, 3, 4, 5, 6, 7, 8, 9]"
      ]
     },
     "execution_count": 2,
     "metadata": {},
     "output_type": "execute_result"
    }
   ],
   "source": [
    "x = range(10) # generator: 생성기\n",
    "print(x)\n",
    "\n",
    "new_list =[]\n",
    "\n",
    "for n in range(10):\n",
    "    new_list.append(n)\n",
    "    \n",
    "new_list"
   ]
  },
  {
   "cell_type": "code",
   "execution_count": 3,
   "id": "100a3cc4",
   "metadata": {},
   "outputs": [
    {
     "data": {
      "text/plain": [
       "[0, 1, 2, 3, 4, 5, 6, 7, 8, 9]"
      ]
     },
     "execution_count": 3,
     "metadata": {},
     "output_type": "execute_result"
    }
   ],
   "source": [
    "new_list2 = [i for i in range(10)] #start: 0, stop: 10\n",
    "new_list2"
   ]
  },
  {
   "cell_type": "code",
   "execution_count": 4,
   "id": "522b765b",
   "metadata": {},
   "outputs": [
    {
     "data": {
      "text/plain": [
       "[5, 6, 7, 8, 9]"
      ]
     },
     "execution_count": 4,
     "metadata": {},
     "output_type": "execute_result"
    }
   ],
   "source": [
    "new_list3 = [n for n in range(5,10)] #start: 5, stop: 10\n",
    "new_list3"
   ]
  },
  {
   "cell_type": "code",
   "execution_count": 5,
   "id": "a749fa54",
   "metadata": {},
   "outputs": [
    {
     "data": {
      "text/plain": [
       "[5, 7, 9]"
      ]
     },
     "execution_count": 5,
     "metadata": {},
     "output_type": "execute_result"
    }
   ],
   "source": [
    "new_list4 = [n for n in range(5, 10, 2)] #start: 5, stop: 10, step: 2\n",
    "new_list4"
   ]
  },
  {
   "cell_type": "code",
   "execution_count": 6,
   "id": "be979a1d",
   "metadata": {},
   "outputs": [
    {
     "name": "stdout",
     "output_type": "stream",
     "text": [
      "233168\n"
     ]
    }
   ],
   "source": [
    "#project euler : problem 1\n",
    "\n",
    "#Find the sum of all the multiples of 3 or 5 below 1000.\n",
    "\n",
    "#1번 방법 - 리스트에 넣어 총합 구하기.\n",
    "\n",
    "l= []\n",
    "\n",
    "for i in range(1000):\n",
    "    if i%3 == 0 or i%5 == 0:\n",
    "        l.append(i)\n",
    "\n",
    "print(sum(l))"
   ]
  },
  {
   "cell_type": "code",
   "execution_count": 7,
   "id": "b9332d4a",
   "metadata": {},
   "outputs": [
    {
     "name": "stdout",
     "output_type": "stream",
     "text": [
      "233168\n"
     ]
    }
   ],
   "source": [
    "#2번 방법\n",
    "\n",
    "list3 = [n for n in range(3, 1000, 3)]\n",
    "list5 = [n for n in range(5, 1000, 5)]\n",
    "\n",
    "set_x = set(list3 + list5)\n",
    "print(sum(set_x))"
   ]
  },
  {
   "cell_type": "code",
   "execution_count": 8,
   "id": "0af67268",
   "metadata": {},
   "outputs": [
    {
     "name": "stdout",
     "output_type": "stream",
     "text": [
      "[10, 11, 12, 13, 14, 15, 16, 17, 18, 19]\n",
      "[11, 12, 13, 14]\n",
      "[11, 13, 15, 17]\n",
      "[11, 12, 13, 14, 15, 16]\n"
     ]
    }
   ],
   "source": [
    "#slicing - 리스트 이름[시작 인덱스:끝 인덱스:간격]\n",
    "\n",
    "list1 = [n for n in range(10, 20)]\n",
    "print(list1)\n",
    "print(list1[1:5])\n",
    "print(list1[1:8:2])\n",
    "print(list1[1:-3])"
   ]
  },
  {
   "cell_type": "code",
   "execution_count": 9,
   "id": "b739978e",
   "metadata": {},
   "outputs": [
    {
     "name": "stdout",
     "output_type": "stream",
     "text": [
      "sum: 6\n",
      "len: 3\n"
     ]
    }
   ],
   "source": [
    "print('sum:', sum([1, 2, 3]))\n",
    "print('len:', len([1, 2, 3]))"
   ]
  },
  {
   "cell_type": "code",
   "execution_count": 11,
   "id": "f793195d",
   "metadata": {},
   "outputs": [
    {
     "name": "stdout",
     "output_type": "stream",
     "text": [
      "종결값을 입력하시오10\n",
      "result: 2640\n"
     ]
    }
   ],
   "source": [
    "#project euler : problem 6\n",
    "#Find the difference between the sum of the squares of the first one hundred natural numbers and the square of the sum.\n",
    "\n",
    "#my answer\n",
    "x = input('종결값을 입력하시오')\n",
    "a = [i for i in range(1, int(x)+1)]\n",
    "b = [i**2 for i in a]\n",
    "c = sum(a)**2\n",
    "\n",
    "print('result:', c - sum(b))\n",
    "    "
   ]
  },
  {
   "cell_type": "code",
   "execution_count": null,
   "id": "a168788b",
   "metadata": {},
   "outputs": [],
   "source": [
    "#solution\n",
    "\n"
   ]
  },
  {
   "cell_type": "code",
   "execution_count": 15,
   "id": "7891e882",
   "metadata": {},
   "outputs": [
    {
     "data": {
      "text/plain": [
       "[80, 67, 62, 79, 63, 32, 95, 76, 37, 55]"
      ]
     },
     "execution_count": 15,
     "metadata": {},
     "output_type": "execute_result"
    }
   ],
   "source": [
    "# random number\n",
    "\n",
    "import random\n",
    "\n",
    "random.randrange(1, 100)\n",
    "\n",
    "rand_ten = []\n",
    "\n",
    "for _ in range(10): # 굳이 변수를 할당할 필요가 없다면 _으로 처리한다.\n",
    "    rand_ten.append(random.randrange(1, 100))\n",
    "rand_ten"
   ]
  },
  {
   "cell_type": "code",
   "execution_count": 17,
   "id": "3c19c197",
   "metadata": {},
   "outputs": [
    {
     "name": "stdout",
     "output_type": "stream",
     "text": [
      "v2: [7, 25, 86, 37, 78, 88, 69, 98, 56, 83]\n"
     ]
    }
   ],
   "source": [
    "rand_ten2 = [random.randrange(1,100) for _ in range(10)]\n",
    "print('v2:', rand_ten2)"
   ]
  },
  {
   "cell_type": "code",
   "execution_count": 18,
   "id": "81b4e1b8",
   "metadata": {},
   "outputs": [
    {
     "name": "stdout",
     "output_type": "stream",
     "text": [
      "my function\n"
     ]
    },
    {
     "data": {
      "text/plain": [
       "25"
      ]
     },
     "execution_count": 18,
     "metadata": {},
     "output_type": "execute_result"
    }
   ],
   "source": [
    "# 함수\n",
    "\n",
    "def myfunc():\n",
    "    print('my function')\n",
    "    \n",
    "myfunc()\n",
    "\n",
    "def myfunc2(n=1):  #n의 데이터 타입을 주의 할 것!, n=1의 뜻은 값이 주어지지 않을 때 1로 처리한다.\n",
    "    return n**2;\n",
    "\n",
    "myfunc2(5)"
   ]
  },
  {
   "cell_type": "code",
   "execution_count": 19,
   "id": "852cff03",
   "metadata": {},
   "outputs": [
    {
     "data": {
      "text/plain": [
       "14"
      ]
     },
     "execution_count": 19,
     "metadata": {},
     "output_type": "execute_result"
    }
   ],
   "source": [
    "#입력: python 리스트\n",
    "#출력(return, 반환값): 각 element 제곱의 합\n",
    "def sum_of_squares(n):\n",
    "    b = [i**2 for i in n]\n",
    "    return sum(b)\n",
    "\n",
    "sum_of_squares([1, 2, 3])"
   ]
  },
  {
   "cell_type": "code",
   "execution_count": null,
   "id": "ed7e4863",
   "metadata": {},
   "outputs": [],
   "source": []
  }
 ],
 "metadata": {
  "kernelspec": {
   "display_name": "Python 3 (ipykernel)",
   "language": "python",
   "name": "python3"
  },
  "language_info": {
   "codemirror_mode": {
    "name": "ipython",
    "version": 3
   },
   "file_extension": ".py",
   "mimetype": "text/x-python",
   "name": "python",
   "nbconvert_exporter": "python",
   "pygments_lexer": "ipython3",
   "version": "3.9.7"
  }
 },
 "nbformat": 4,
 "nbformat_minor": 5
}
